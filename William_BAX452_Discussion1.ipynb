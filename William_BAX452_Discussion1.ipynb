{
  "nbformat": 4,
  "nbformat_minor": 0,
  "metadata": {
    "colab": {
      "name": "William_BAX452-Discussion1.ipynb",
      "version": "0.3.2",
      "provenance": [],
      "collapsed_sections": [],
      "include_colab_link": true
    },
    "kernelspec": {
      "name": "python3",
      "display_name": "Python 3"
    }
  },
  "cells": [
    {
      "cell_type": "markdown",
      "metadata": {
        "id": "view-in-github",
        "colab_type": "text"
      },
      "source": [
        "<a href=\"https://colab.research.google.com/github/Barneybean/comment_objetivity_analysis/blob/master/William_BAX452_Discussion1.ipynb\" target=\"_parent\"><img src=\"https://colab.research.google.com/assets/colab-badge.svg\" alt=\"Open In Colab\"/></a>"
      ]
    },
    {
      "metadata": {
        "id": "xKJ0selYO5_G",
        "colab_type": "code",
        "outputId": "e08268eb-8e4d-4d60-d3e6-2a511bfb6d13",
        "colab": {
          "base_uri": "https://localhost:8080/",
          "height": 119
        }
      },
      "cell_type": "code",
      "source": [
        "import pandas as pd\n",
        "from textblob import TextBlob\n",
        "\n",
        "df=pd.read_csv('https://raw.githubusercontent.com/Barneybean/comment_objetivity_analysis/master/googleplaystore_user_reviews.csv') \n",
        "reviews = df[\"Translated_Review\"].astype(str)\n",
        "print(reviews.head())\n"
      ],
      "execution_count": 1,
      "outputs": [
        {
          "output_type": "stream",
          "text": [
            "0    I like eat delicious food. That's I'm cooking ...\n",
            "1      This help eating healthy exercise regular basis\n",
            "2                                                  nan\n",
            "3           Works great especially going grocery store\n",
            "4                                         Best idea us\n",
            "Name: Translated_Review, dtype: object\n"
          ],
          "name": "stdout"
        }
      ]
    },
    {
      "metadata": {
        "colab_type": "code",
        "outputId": "a3b71769-32e1-46c1-ed95-454ee0d0540e",
        "id": "OGlP6dwmm8j6",
        "colab": {
          "base_uri": "https://localhost:8080/",
          "height": 374
        }
      },
      "cell_type": "code",
      "source": [
        "#analyze sentiments on reviews comments\n",
        "\n",
        "print(\"*****this will take a minute********\")\n",
        "\n",
        "# The polarity score is a float within the range [-1.0, 1.0].\n",
        "# The subjectivity is a float within the range [0.0, 1.0] where 0.0 is very objective and 1.0 is very subjective.\n",
        "\n",
        "def sentiment_analysis(row):\n",
        "  text = TextBlob(row)\n",
        "  subjectivity_score = text.sentiment.subjectivity\n",
        "  return(subjectivity_score)\n",
        "  \n",
        "def categorize(score):\n",
        "  if score > 0.5:\n",
        "    return \"Subjective\"\n",
        "  elif score == 0:\n",
        "    return \"NaN\"\n",
        "  else:\n",
        "    return \"Objective\"\n",
        "\n",
        "df[\"My_Subjectivity_score\"] = reviews.apply(sentiment_analysis)\n",
        "df[\"Subjectivity_category\"] = df[\"My_Subjectivity_score\"].apply(categorize)\n",
        "\n",
        "print(df.head())\n",
        "\n"
      ],
      "execution_count": 4,
      "outputs": [
        {
          "output_type": "stream",
          "text": [
            "*****this will take a minute********\n",
            "                     App                                  Translated_Review  \\\n",
            "0  10 Best Foods for You  I like eat delicious food. That's I'm cooking ...   \n",
            "1  10 Best Foods for You    This help eating healthy exercise regular basis   \n",
            "2  10 Best Foods for You                                                NaN   \n",
            "3  10 Best Foods for You         Works great especially going grocery store   \n",
            "4  10 Best Foods for You                                       Best idea us   \n",
            "\n",
            "  Sentiment  Sentiment_Polarity  Sentiment_Subjectivity  \\\n",
            "0  Positive                1.00                0.533333   \n",
            "1  Positive                0.25                0.288462   \n",
            "2       NaN                 NaN                     NaN   \n",
            "3  Positive                0.40                0.875000   \n",
            "4  Positive                1.00                0.300000   \n",
            "\n",
            "   My_Subjectivity_score Subjectivity_category  \n",
            "0               0.533333            Subjective  \n",
            "1               0.288462             Objective  \n",
            "2               0.000000                   NaN  \n",
            "3               0.875000            Subjective  \n",
            "4               0.300000             Objective  \n"
          ],
          "name": "stdout"
        }
      ]
    },
    {
      "metadata": {
        "id": "-1vdjqoDzB6v",
        "colab_type": "code",
        "outputId": "6582ae75-989c-448d-ec98-e8c29f9886ea",
        "colab": {
          "base_uri": "https://localhost:8080/",
          "height": 204
        }
      },
      "cell_type": "code",
      "source": [
        "df.head()"
      ],
      "execution_count": 5,
      "outputs": [
        {
          "output_type": "execute_result",
          "data": {
            "text/html": [
              "<div>\n",
              "<style scoped>\n",
              "    .dataframe tbody tr th:only-of-type {\n",
              "        vertical-align: middle;\n",
              "    }\n",
              "\n",
              "    .dataframe tbody tr th {\n",
              "        vertical-align: top;\n",
              "    }\n",
              "\n",
              "    .dataframe thead th {\n",
              "        text-align: right;\n",
              "    }\n",
              "</style>\n",
              "<table border=\"1\" class=\"dataframe\">\n",
              "  <thead>\n",
              "    <tr style=\"text-align: right;\">\n",
              "      <th></th>\n",
              "      <th>App</th>\n",
              "      <th>Translated_Review</th>\n",
              "      <th>Sentiment</th>\n",
              "      <th>Sentiment_Polarity</th>\n",
              "      <th>Sentiment_Subjectivity</th>\n",
              "      <th>My_Subjectivity_score</th>\n",
              "      <th>Subjectivity_category</th>\n",
              "    </tr>\n",
              "  </thead>\n",
              "  <tbody>\n",
              "    <tr>\n",
              "      <th>0</th>\n",
              "      <td>10 Best Foods for You</td>\n",
              "      <td>I like eat delicious food. That's I'm cooking ...</td>\n",
              "      <td>Positive</td>\n",
              "      <td>1.00</td>\n",
              "      <td>0.533333</td>\n",
              "      <td>0.533333</td>\n",
              "      <td>Subjective</td>\n",
              "    </tr>\n",
              "    <tr>\n",
              "      <th>1</th>\n",
              "      <td>10 Best Foods for You</td>\n",
              "      <td>This help eating healthy exercise regular basis</td>\n",
              "      <td>Positive</td>\n",
              "      <td>0.25</td>\n",
              "      <td>0.288462</td>\n",
              "      <td>0.288462</td>\n",
              "      <td>Objective</td>\n",
              "    </tr>\n",
              "    <tr>\n",
              "      <th>2</th>\n",
              "      <td>10 Best Foods for You</td>\n",
              "      <td>NaN</td>\n",
              "      <td>NaN</td>\n",
              "      <td>NaN</td>\n",
              "      <td>NaN</td>\n",
              "      <td>0.000000</td>\n",
              "      <td>NaN</td>\n",
              "    </tr>\n",
              "    <tr>\n",
              "      <th>3</th>\n",
              "      <td>10 Best Foods for You</td>\n",
              "      <td>Works great especially going grocery store</td>\n",
              "      <td>Positive</td>\n",
              "      <td>0.40</td>\n",
              "      <td>0.875000</td>\n",
              "      <td>0.875000</td>\n",
              "      <td>Subjective</td>\n",
              "    </tr>\n",
              "    <tr>\n",
              "      <th>4</th>\n",
              "      <td>10 Best Foods for You</td>\n",
              "      <td>Best idea us</td>\n",
              "      <td>Positive</td>\n",
              "      <td>1.00</td>\n",
              "      <td>0.300000</td>\n",
              "      <td>0.300000</td>\n",
              "      <td>Objective</td>\n",
              "    </tr>\n",
              "  </tbody>\n",
              "</table>\n",
              "</div>"
            ],
            "text/plain": [
              "                     App                                  Translated_Review  \\\n",
              "0  10 Best Foods for You  I like eat delicious food. That's I'm cooking ...   \n",
              "1  10 Best Foods for You    This help eating healthy exercise regular basis   \n",
              "2  10 Best Foods for You                                                NaN   \n",
              "3  10 Best Foods for You         Works great especially going grocery store   \n",
              "4  10 Best Foods for You                                       Best idea us   \n",
              "\n",
              "  Sentiment  Sentiment_Polarity  Sentiment_Subjectivity  \\\n",
              "0  Positive                1.00                0.533333   \n",
              "1  Positive                0.25                0.288462   \n",
              "2       NaN                 NaN                     NaN   \n",
              "3  Positive                0.40                0.875000   \n",
              "4  Positive                1.00                0.300000   \n",
              "\n",
              "   My_Subjectivity_score Subjectivity_category  \n",
              "0               0.533333            Subjective  \n",
              "1               0.288462             Objective  \n",
              "2               0.000000                   NaN  \n",
              "3               0.875000            Subjective  \n",
              "4               0.300000             Objective  "
            ]
          },
          "metadata": {
            "tags": []
          },
          "execution_count": 5
        }
      ]
    },
    {
      "metadata": {
        "id": "U8mvl3w6zEF7",
        "colab_type": "code",
        "outputId": "657e2d6c-b988-410e-f43d-9cf7923caa52",
        "colab": {
          "base_uri": "https://localhost:8080/",
          "height": 456
        }
      },
      "cell_type": "code",
      "source": [
        "#Analyze whether positive comments are more subjective than those in negative comments\n",
        "\n",
        "positive_and_subjective = df[\"Sentiment\"][(df[\"Sentiment\"]==\"Positive\") & (df[\"Subjectivity_category\"]==\"Subjective\")].count()\n",
        "positive_and_objective = df[\"Sentiment\"][(df[\"Sentiment\"]==\"Positive\") & (df[\"Subjectivity_category\"]==\"Objective\")].count()\n",
        "negative_and_subjective = df[\"Sentiment\"][(df[\"Sentiment\"]==\"Negative\") & (df[\"Subjectivity_category\"]==\"Subjective\")].count()\n",
        "negative_and_objective = df[\"Sentiment\"][(df[\"Sentiment\"]==\"Negative\") & (df[\"Subjectivity_category\"]==\"Objective\")].count()\n",
        "\n",
        "subjective_in_positive = positive_and_subjective/(positive_and_subjective+positive_and_objective)\n",
        "subjective_in_negative = negative_and_subjective/(negative_and_subjective+negative_and_objective)\n",
        "\n",
        "data=[subjective_in_positive,\n",
        "      subjective_in_negative]\n",
        "data = list(map(lambda x: (x*100), data))\n",
        "y_labels = list(map(lambda x: \"{:,.2%}\".format(x), data))\n",
        "\n",
        "data = pd.DataFrame({\"label\": [\"Positive_Sentiment\", \"Negative_Sentiment\"], \"Count\":data})\n",
        "print(data)\n",
        "\n",
        "ax=data.plot.bar(x=\"label\", y=\"Count\", rot=30)\n",
        "# ax.set_yticklabels(y_labels)\n",
        "\n",
        "#Positive reviews are more subjective than negative reviews 61% vs 53%\n"
      ],
      "execution_count": 6,
      "outputs": [
        {
          "output_type": "stream",
          "text": [
            "       Count               label\n",
            "0  61.314113  Positive_Sentiment\n",
            "1  53.123475  Negative_Sentiment\n"
          ],
          "name": "stdout"
        },
        {
          "output_type": "display_data",
          "data": {
            "image/png": "[encoded data removed]",
            "text/plain": [
              "<matplotlib.figure.Figure at 0x7f41d7d75a20>"
            ]
          },
          "metadata": {
            "tags": []
          }
        }
      ]
    },
    {
      "metadata": {
        "id": "SrApp-RcH13Z",
        "colab_type": "text"
      },
      "cell_type": "markdown",
      "source": [
        "## Discussion #1"
      ]
    },
    {
      "metadata": {
        "id": "qI2nzyyxIDSm",
        "colab_type": "text"
      },
      "cell_type": "markdown",
      "source": [
        "* 10 Points Total\n",
        "  * 5 points for modifying this colab notebook and making it does something different\n",
        "  * 5 points for responding to at least one other person's changes.\n",
        "  \n",
        "**Grading Criteria**\n",
        "\n",
        "* Creativity\n",
        "* Complexity\n",
        "* Relevant\n",
        "* Software Quality\n",
        "* Did you test your link in \"incognito mode\" so other can open it?"
      ]
    },
    {
      "metadata": {
        "id": "uFXnlSzOKxC_",
        "colab_type": "text"
      },
      "cell_type": "markdown",
      "source": [
        "### Installing textblob"
      ]
    },
    {
      "metadata": {
        "id": "gHhz7655K1f5",
        "colab_type": "code",
        "colab": {}
      },
      "cell_type": "code",
      "source": [
        "!pip -q install -U textblob"
      ],
      "execution_count": 0,
      "outputs": []
    },
    {
      "metadata": {
        "id": "_m6ZSeE0JNZu",
        "colab_type": "text"
      },
      "cell_type": "markdown",
      "source": [
        "### Making a Pandas DataFrame from scratch"
      ]
    },
    {
      "metadata": {
        "id": "cKDMQwU0Hvey",
        "colab_type": "code",
        "colab": {}
      },
      "cell_type": "code",
      "source": [
        "import pandas as pd\n",
        "from textblob import TextBlob\n"
      ],
      "execution_count": 0,
      "outputs": []
    },
    {
      "metadata": {
        "id": "P2jRChieJYzl",
        "colab_type": "code",
        "outputId": "e9fbdff7-1718-44ae-fc8d-068f2d6af73c",
        "colab": {
          "base_uri": "https://localhost:8080/",
          "height": 85
        }
      },
      "cell_type": "code",
      "source": [
        "df = pd.DataFrame(\n",
        "  {\"SentimentRaw\": [\"I am very Angry\",\n",
        "                    \"We are very Happy\",\n",
        "                    \"It is raining in Seattle\"]}\n",
        ")\n",
        "print(df)"
      ],
      "execution_count": 0,
      "outputs": [
        {
          "output_type": "stream",
          "text": [
            "               SentimentRaw\n",
            "0           I am very Angry\n",
            "1         We are very Happy\n",
            "2  It is raining in Seattle\n"
          ],
          "name": "stdout"
        }
      ]
    },
    {
      "metadata": {
        "id": "ErJerROzJ0Mc",
        "colab_type": "text"
      },
      "cell_type": "markdown",
      "source": [
        "### Creating an Apply function"
      ]
    },
    {
      "metadata": {
        "id": "iBBUxcZ_KFIp",
        "colab_type": "code",
        "colab": {}
      },
      "cell_type": "code",
      "source": [
        "def create_sentiment(row):\n",
        "  \"This operates on a row of a Pandas DataFrame and performs an action\"\n",
        "  \n",
        "  result = TextBlob(row)\n",
        "  spanish_version = result.translate(to=\"es\")\n",
        "  print(f\"Raw phrase: {row}, spanish version: {spanish_version}\")\n",
        "  return spanish_version\n",
        " \n",
        "  "
      ],
      "execution_count": 0,
      "outputs": []
    },
    {
      "metadata": {
        "id": "9jK6JOE2Mn0V",
        "colab_type": "text"
      },
      "cell_type": "markdown",
      "source": [
        "### Apply to DataFrame"
      ]
    },
    {
      "metadata": {
        "id": "zqg5djAiMuCv",
        "colab_type": "code",
        "outputId": "72e6b022-8af4-4a2f-db89-0da63bce6274",
        "colab": {
          "base_uri": "https://localhost:8080/",
          "height": 68
        }
      },
      "cell_type": "code",
      "source": [
        "df[\"SpanishSentimentRaw\"] = df[\"SentimentRaw\"].apply(create_sentiment)"
      ],
      "execution_count": 0,
      "outputs": [
        {
          "output_type": "stream",
          "text": [
            "Raw phrase: I am very Angry, spanish version: Estoy muy furioso\n",
            "Raw phrase: We are very Happy, spanish version: Estamos muy felices\n",
            "Raw phrase: It is raining in Seattle, spanish version: Esta lloviendo en seattle\n"
          ],
          "name": "stdout"
        }
      ]
    },
    {
      "metadata": {
        "id": "gx-LCj4CM6on",
        "colab_type": "code",
        "colab": {}
      },
      "cell_type": "code",
      "source": [
        ""
      ],
      "execution_count": 0,
      "outputs": []
    }
  ]
}